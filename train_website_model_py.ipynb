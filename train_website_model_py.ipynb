{
  "nbformat": 4,
  "nbformat_minor": 0,
  "metadata": {
    "colab": {
      "provenance": [],
      "authorship_tag": "ABX9TyOekvMAbbNzzFRpaKpZadla",
      "include_colab_link": true
    },
    "kernelspec": {
      "name": "python3",
      "display_name": "Python 3"
    },
    "language_info": {
      "name": "python"
    }
  },
  "cells": [
    {
      "cell_type": "markdown",
      "metadata": {
        "id": "view-in-github",
        "colab_type": "text"
      },
      "source": [
        "<a href=\"https://colab.research.google.com/github/Zahra203/Phishing-Detection/blob/main/train_website_model_py.ipynb\" target=\"_parent\"><img src=\"https://colab.research.google.com/assets/colab-badge.svg\" alt=\"Open In Colab\"/></a>"
      ]
    },
    {
      "cell_type": "code",
      "execution_count": null,
      "metadata": {
        "id": "9gMxu1k5ajlw"
      },
      "outputs": [],
      "source": [
        "from IPython import get_ipython\n",
        "from IPython.display import display"
      ]
    },
    {
      "cell_type": "code",
      "source": [
        "import pandas as pd\n",
        "from google.colab import files\n",
        "uploaded = files.upload()\n",
        "\n",
        "\n",
        "\n"
      ],
      "metadata": {
        "colab": {
          "base_uri": "https://localhost:8080/",
          "height": 73
        },
        "id": "WVb1nrMvaoaz",
        "outputId": "cf99b570-f2be-4c4a-9775-0dc7075dc1f0"
      },
      "execution_count": null,
      "outputs": [
        {
          "output_type": "display_data",
          "data": {
            "text/plain": [
              "<IPython.core.display.HTML object>"
            ],
            "text/html": [
              "\n",
              "     <input type=\"file\" id=\"files-63c7cbda-e809-4056-bc99-52070a1a7645\" name=\"files[]\" multiple disabled\n",
              "        style=\"border:none\" />\n",
              "     <output id=\"result-63c7cbda-e809-4056-bc99-52070a1a7645\">\n",
              "      Upload widget is only available when the cell has been executed in the\n",
              "      current browser session. Please rerun this cell to enable.\n",
              "      </output>\n",
              "      <script>// Copyright 2017 Google LLC\n",
              "//\n",
              "// Licensed under the Apache License, Version 2.0 (the \"License\");\n",
              "// you may not use this file except in compliance with the License.\n",
              "// You may obtain a copy of the License at\n",
              "//\n",
              "//      http://www.apache.org/licenses/LICENSE-2.0\n",
              "//\n",
              "// Unless required by applicable law or agreed to in writing, software\n",
              "// distributed under the License is distributed on an \"AS IS\" BASIS,\n",
              "// WITHOUT WARRANTIES OR CONDITIONS OF ANY KIND, either express or implied.\n",
              "// See the License for the specific language governing permissions and\n",
              "// limitations under the License.\n",
              "\n",
              "/**\n",
              " * @fileoverview Helpers for google.colab Python module.\n",
              " */\n",
              "(function(scope) {\n",
              "function span(text, styleAttributes = {}) {\n",
              "  const element = document.createElement('span');\n",
              "  element.textContent = text;\n",
              "  for (const key of Object.keys(styleAttributes)) {\n",
              "    element.style[key] = styleAttributes[key];\n",
              "  }\n",
              "  return element;\n",
              "}\n",
              "\n",
              "// Max number of bytes which will be uploaded at a time.\n",
              "const MAX_PAYLOAD_SIZE = 100 * 1024;\n",
              "\n",
              "function _uploadFiles(inputId, outputId) {\n",
              "  const steps = uploadFilesStep(inputId, outputId);\n",
              "  const outputElement = document.getElementById(outputId);\n",
              "  // Cache steps on the outputElement to make it available for the next call\n",
              "  // to uploadFilesContinue from Python.\n",
              "  outputElement.steps = steps;\n",
              "\n",
              "  return _uploadFilesContinue(outputId);\n",
              "}\n",
              "\n",
              "// This is roughly an async generator (not supported in the browser yet),\n",
              "// where there are multiple asynchronous steps and the Python side is going\n",
              "// to poll for completion of each step.\n",
              "// This uses a Promise to block the python side on completion of each step,\n",
              "// then passes the result of the previous step as the input to the next step.\n",
              "function _uploadFilesContinue(outputId) {\n",
              "  const outputElement = document.getElementById(outputId);\n",
              "  const steps = outputElement.steps;\n",
              "\n",
              "  const next = steps.next(outputElement.lastPromiseValue);\n",
              "  return Promise.resolve(next.value.promise).then((value) => {\n",
              "    // Cache the last promise value to make it available to the next\n",
              "    // step of the generator.\n",
              "    outputElement.lastPromiseValue = value;\n",
              "    return next.value.response;\n",
              "  });\n",
              "}\n",
              "\n",
              "/**\n",
              " * Generator function which is called between each async step of the upload\n",
              " * process.\n",
              " * @param {string} inputId Element ID of the input file picker element.\n",
              " * @param {string} outputId Element ID of the output display.\n",
              " * @return {!Iterable<!Object>} Iterable of next steps.\n",
              " */\n",
              "function* uploadFilesStep(inputId, outputId) {\n",
              "  const inputElement = document.getElementById(inputId);\n",
              "  inputElement.disabled = false;\n",
              "\n",
              "  const outputElement = document.getElementById(outputId);\n",
              "  outputElement.innerHTML = '';\n",
              "\n",
              "  const pickedPromise = new Promise((resolve) => {\n",
              "    inputElement.addEventListener('change', (e) => {\n",
              "      resolve(e.target.files);\n",
              "    });\n",
              "  });\n",
              "\n",
              "  const cancel = document.createElement('button');\n",
              "  inputElement.parentElement.appendChild(cancel);\n",
              "  cancel.textContent = 'Cancel upload';\n",
              "  const cancelPromise = new Promise((resolve) => {\n",
              "    cancel.onclick = () => {\n",
              "      resolve(null);\n",
              "    };\n",
              "  });\n",
              "\n",
              "  // Wait for the user to pick the files.\n",
              "  const files = yield {\n",
              "    promise: Promise.race([pickedPromise, cancelPromise]),\n",
              "    response: {\n",
              "      action: 'starting',\n",
              "    }\n",
              "  };\n",
              "\n",
              "  cancel.remove();\n",
              "\n",
              "  // Disable the input element since further picks are not allowed.\n",
              "  inputElement.disabled = true;\n",
              "\n",
              "  if (!files) {\n",
              "    return {\n",
              "      response: {\n",
              "        action: 'complete',\n",
              "      }\n",
              "    };\n",
              "  }\n",
              "\n",
              "  for (const file of files) {\n",
              "    const li = document.createElement('li');\n",
              "    li.append(span(file.name, {fontWeight: 'bold'}));\n",
              "    li.append(span(\n",
              "        `(${file.type || 'n/a'}) - ${file.size} bytes, ` +\n",
              "        `last modified: ${\n",
              "            file.lastModifiedDate ? file.lastModifiedDate.toLocaleDateString() :\n",
              "                                    'n/a'} - `));\n",
              "    const percent = span('0% done');\n",
              "    li.appendChild(percent);\n",
              "\n",
              "    outputElement.appendChild(li);\n",
              "\n",
              "    const fileDataPromise = new Promise((resolve) => {\n",
              "      const reader = new FileReader();\n",
              "      reader.onload = (e) => {\n",
              "        resolve(e.target.result);\n",
              "      };\n",
              "      reader.readAsArrayBuffer(file);\n",
              "    });\n",
              "    // Wait for the data to be ready.\n",
              "    let fileData = yield {\n",
              "      promise: fileDataPromise,\n",
              "      response: {\n",
              "        action: 'continue',\n",
              "      }\n",
              "    };\n",
              "\n",
              "    // Use a chunked sending to avoid message size limits. See b/62115660.\n",
              "    let position = 0;\n",
              "    do {\n",
              "      const length = Math.min(fileData.byteLength - position, MAX_PAYLOAD_SIZE);\n",
              "      const chunk = new Uint8Array(fileData, position, length);\n",
              "      position += length;\n",
              "\n",
              "      const base64 = btoa(String.fromCharCode.apply(null, chunk));\n",
              "      yield {\n",
              "        response: {\n",
              "          action: 'append',\n",
              "          file: file.name,\n",
              "          data: base64,\n",
              "        },\n",
              "      };\n",
              "\n",
              "      let percentDone = fileData.byteLength === 0 ?\n",
              "          100 :\n",
              "          Math.round((position / fileData.byteLength) * 100);\n",
              "      percent.textContent = `${percentDone}% done`;\n",
              "\n",
              "    } while (position < fileData.byteLength);\n",
              "  }\n",
              "\n",
              "  // All done.\n",
              "  yield {\n",
              "    response: {\n",
              "      action: 'complete',\n",
              "    }\n",
              "  };\n",
              "}\n",
              "\n",
              "scope.google = scope.google || {};\n",
              "scope.google.colab = scope.google.colab || {};\n",
              "scope.google.colab._files = {\n",
              "  _uploadFiles,\n",
              "  _uploadFilesContinue,\n",
              "};\n",
              "})(self);\n",
              "</script> "
            ]
          },
          "metadata": {}
        },
        {
          "output_type": "stream",
          "name": "stdout",
          "text": [
            "Saving dataset_phishing.csv to dataset_phishing.csv\n"
          ]
        }
      ]
    },
    {
      "cell_type": "code",
      "source": [
        "# Assuming only one file was uploaded, get the filename\n",
        "for fn in uploaded.keys():\n",
        "  filename = fn\n",
        "\n",
        "# Read the uploaded file into a pandas DataFrame\n",
        "# Replace 'pd.read_csv' with the appropriate function based on your file type\n",
        "df = pd.read_csv(filename)\n"
      ],
      "metadata": {
        "id": "VKWYr8o9are1"
      },
      "execution_count": null,
      "outputs": []
    },
    {
      "cell_type": "code",
      "source": [
        "print(df.info())"
      ],
      "metadata": {
        "colab": {
          "base_uri": "https://localhost:8080/"
        },
        "id": "la0fUDrocRpl",
        "outputId": "bd9fe1de-1331-42a9-9c45-3e2964485436"
      },
      "execution_count": null,
      "outputs": [
        {
          "output_type": "stream",
          "name": "stdout",
          "text": [
            "<class 'pandas.core.frame.DataFrame'>\n",
            "RangeIndex: 11430 entries, 0 to 11429\n",
            "Data columns (total 89 columns):\n",
            " #   Column                      Non-Null Count  Dtype  \n",
            "---  ------                      --------------  -----  \n",
            " 0   url                         11430 non-null  object \n",
            " 1   length_url                  11430 non-null  int64  \n",
            " 2   length_hostname             11430 non-null  int64  \n",
            " 3   ip                          11430 non-null  int64  \n",
            " 4   nb_dots                     11430 non-null  int64  \n",
            " 5   nb_hyphens                  11430 non-null  int64  \n",
            " 6   nb_at                       11430 non-null  int64  \n",
            " 7   nb_qm                       11430 non-null  int64  \n",
            " 8   nb_and                      11430 non-null  int64  \n",
            " 9   nb_or                       11430 non-null  int64  \n",
            " 10  nb_eq                       11430 non-null  int64  \n",
            " 11  nb_underscore               11430 non-null  int64  \n",
            " 12  nb_tilde                    11430 non-null  int64  \n",
            " 13  nb_percent                  11430 non-null  int64  \n",
            " 14  nb_slash                    11430 non-null  int64  \n",
            " 15  nb_star                     11430 non-null  int64  \n",
            " 16  nb_colon                    11430 non-null  int64  \n",
            " 17  nb_comma                    11430 non-null  int64  \n",
            " 18  nb_semicolumn               11430 non-null  int64  \n",
            " 19  nb_dollar                   11430 non-null  int64  \n",
            " 20  nb_space                    11430 non-null  int64  \n",
            " 21  nb_www                      11430 non-null  int64  \n",
            " 22  nb_com                      11430 non-null  int64  \n",
            " 23  nb_dslash                   11430 non-null  int64  \n",
            " 24  http_in_path                11430 non-null  int64  \n",
            " 25  https_token                 11430 non-null  int64  \n",
            " 26  ratio_digits_url            11430 non-null  float64\n",
            " 27  ratio_digits_host           11430 non-null  float64\n",
            " 28  punycode                    11430 non-null  int64  \n",
            " 29  port                        11430 non-null  int64  \n",
            " 30  tld_in_path                 11430 non-null  int64  \n",
            " 31  tld_in_subdomain            11430 non-null  int64  \n",
            " 32  abnormal_subdomain          11430 non-null  int64  \n",
            " 33  nb_subdomains               11430 non-null  int64  \n",
            " 34  prefix_suffix               11430 non-null  int64  \n",
            " 35  random_domain               11430 non-null  int64  \n",
            " 36  shortening_service          11430 non-null  int64  \n",
            " 37  path_extension              11430 non-null  int64  \n",
            " 38  nb_redirection              11430 non-null  int64  \n",
            " 39  nb_external_redirection     11430 non-null  int64  \n",
            " 40  length_words_raw            11430 non-null  int64  \n",
            " 41  char_repeat                 11430 non-null  int64  \n",
            " 42  shortest_words_raw          11430 non-null  int64  \n",
            " 43  shortest_word_host          11430 non-null  int64  \n",
            " 44  shortest_word_path          11430 non-null  int64  \n",
            " 45  longest_words_raw           11430 non-null  int64  \n",
            " 46  longest_word_host           11430 non-null  int64  \n",
            " 47  longest_word_path           11430 non-null  int64  \n",
            " 48  avg_words_raw               11430 non-null  float64\n",
            " 49  avg_word_host               11430 non-null  float64\n",
            " 50  avg_word_path               11430 non-null  float64\n",
            " 51  phish_hints                 11430 non-null  int64  \n",
            " 52  domain_in_brand             11430 non-null  int64  \n",
            " 53  brand_in_subdomain          11430 non-null  int64  \n",
            " 54  brand_in_path               11430 non-null  int64  \n",
            " 55  suspecious_tld              11430 non-null  int64  \n",
            " 56  statistical_report          11430 non-null  int64  \n",
            " 57  nb_hyperlinks               11430 non-null  int64  \n",
            " 58  ratio_intHyperlinks         11430 non-null  float64\n",
            " 59  ratio_extHyperlinks         11430 non-null  float64\n",
            " 60  ratio_nullHyperlinks        11430 non-null  int64  \n",
            " 61  nb_extCSS                   11430 non-null  int64  \n",
            " 62  ratio_intRedirection        11430 non-null  int64  \n",
            " 63  ratio_extRedirection        11430 non-null  float64\n",
            " 64  ratio_intErrors             11430 non-null  int64  \n",
            " 65  ratio_extErrors             11430 non-null  float64\n",
            " 66  login_form                  11430 non-null  int64  \n",
            " 67  external_favicon            11430 non-null  int64  \n",
            " 68  links_in_tags               11430 non-null  float64\n",
            " 69  submit_email                11430 non-null  int64  \n",
            " 70  ratio_intMedia              11430 non-null  float64\n",
            " 71  ratio_extMedia              11430 non-null  float64\n",
            " 72  sfh                         11430 non-null  int64  \n",
            " 73  iframe                      11430 non-null  int64  \n",
            " 74  popup_window                11430 non-null  int64  \n",
            " 75  safe_anchor                 11430 non-null  float64\n",
            " 76  onmouseover                 11430 non-null  int64  \n",
            " 77  right_clic                  11430 non-null  int64  \n",
            " 78  empty_title                 11430 non-null  int64  \n",
            " 79  domain_in_title             11430 non-null  int64  \n",
            " 80  domain_with_copyright       11430 non-null  int64  \n",
            " 81  whois_registered_domain     11430 non-null  int64  \n",
            " 82  domain_registration_length  11430 non-null  int64  \n",
            " 83  domain_age                  11430 non-null  int64  \n",
            " 84  web_traffic                 11430 non-null  int64  \n",
            " 85  dns_record                  11430 non-null  int64  \n",
            " 86  google_index                11430 non-null  int64  \n",
            " 87  page_rank                   11430 non-null  int64  \n",
            " 88  status                      11430 non-null  object \n",
            "dtypes: float64(13), int64(74), object(2)\n",
            "memory usage: 7.8+ MB\n",
            "None\n"
          ]
        }
      ]
    },
    {
      "cell_type": "code",
      "source": [
        "print(df.head())"
      ],
      "metadata": {
        "colab": {
          "base_uri": "https://localhost:8080/"
        },
        "id": "LGn6hmj5cf3v",
        "outputId": "63f7d4a6-bf30-458b-da9d-f110afe82117"
      },
      "execution_count": null,
      "outputs": [
        {
          "output_type": "stream",
          "name": "stdout",
          "text": [
            "                                                 url  length_url  \\\n",
            "0              http://www.crestonwood.com/router.php          37   \n",
            "1  http://shadetreetechnology.com/V4/validation/a...          77   \n",
            "2  https://support-appleld.com.secureupdate.duila...         126   \n",
            "3                                 http://rgipt.ac.in          18   \n",
            "4  http://www.iracing.com/tracks/gateway-motorspo...          55   \n",
            "\n",
            "   length_hostname  ip  nb_dots  nb_hyphens  nb_at  nb_qm  nb_and  nb_or  ...  \\\n",
            "0               19   0        3           0      0      0       0      0  ...   \n",
            "1               23   1        1           0      0      0       0      0  ...   \n",
            "2               50   1        4           1      0      1       2      0  ...   \n",
            "3               11   0        2           0      0      0       0      0  ...   \n",
            "4               15   0        2           2      0      0       0      0  ...   \n",
            "\n",
            "   domain_in_title  domain_with_copyright  whois_registered_domain  \\\n",
            "0                0                      1                        0   \n",
            "1                1                      0                        0   \n",
            "2                1                      0                        0   \n",
            "3                1                      0                        0   \n",
            "4                0                      1                        0   \n",
            "\n",
            "   domain_registration_length  domain_age  web_traffic  dns_record  \\\n",
            "0                          45          -1            0           1   \n",
            "1                          77        5767            0           0   \n",
            "2                          14        4004      5828815           0   \n",
            "3                          62          -1       107721           0   \n",
            "4                         224        8175         8725           0   \n",
            "\n",
            "   google_index  page_rank      status  \n",
            "0             1          4  legitimate  \n",
            "1             1          2    phishing  \n",
            "2             1          0    phishing  \n",
            "3             0          3  legitimate  \n",
            "4             0          6  legitimate  \n",
            "\n",
            "[5 rows x 89 columns]\n"
          ]
        }
      ]
    },
    {
      "cell_type": "code",
      "source": [
        "import numpy as np\n",
        "from sklearn.ensemble import RandomForestClassifier\n",
        "from sklearn.model_selection import train_test_split\n",
        "from sklearn.preprocessing import LabelEncoder\n",
        "from sklearn.metrics import classification_report, confusion_matrix, accuracy_score\n",
        "import matplotlib.pyplot as plt\n",
        "import seaborn as sns"
      ],
      "metadata": {
        "id": "oVgp1O0-ckfo"
      },
      "execution_count": null,
      "outputs": []
    },
    {
      "cell_type": "code",
      "source": [
        "print(\"Missing values per column:\\n\", df.isnull().sum())"
      ],
      "metadata": {
        "colab": {
          "base_uri": "https://localhost:8080/"
        },
        "id": "tZYf7Gv5gwrW",
        "outputId": "c0d2d8b5-edf2-4bf6-821c-aa2cbcb66685"
      },
      "execution_count": null,
      "outputs": [
        {
          "output_type": "stream",
          "name": "stdout",
          "text": [
            "Missing values per column:\n",
            " length_url         0\n",
            "length_hostname    0\n",
            "ip                 0\n",
            "nb_dots            0\n",
            "nb_hyphens         0\n",
            "                  ..\n",
            "web_traffic        0\n",
            "dns_record         0\n",
            "google_index       0\n",
            "page_rank          0\n",
            "status             0\n",
            "Length: 88, dtype: int64\n"
          ]
        }
      ]
    },
    {
      "cell_type": "code",
      "source": [
        "df['status'] = df['status'].map({'phishing': 1, 'legitimate': 0})"
      ],
      "metadata": {
        "id": "XXueEkmNcsmM"
      },
      "execution_count": null,
      "outputs": []
    },
    {
      "cell_type": "code",
      "source": [
        "# Print the list of columns in the DataFrame to check the exact column name\n",
        "print(df.columns)\n",
        "\n",
        "# Once you have the correct column name (e.g., 'Url' or similar),\n",
        "# replace 'url' in the drop function with the correct name.\n",
        "# For example, if the column name is 'Url', change the line to:\n",
        "# df = df.drop(columns=['Url'])\n",
        "\n",
        "# Assuming the column is indeed missing or was already dropped,\n",
        "# you can add an error handling mechanism to prevent the script from crashing\n",
        "# or check if the column exists before attempting to drop it.\n",
        "\n",
        "if 'url' in df.columns:\n",
        "    df = df.drop(columns=['url'])\n",
        "elif 'Url' in df.columns: # Example: check for a different casing\n",
        "    df = df.drop(columns=['Url'])\n",
        "else:\n",
        "    print(\"Column 'url' or 'Url' not found in the DataFrame.\")\n",
        "    # You might want to handle this case, e.g., log a warning,\n",
        "    # or decide not to drop any column if it's not present.\n",
        "\n",
        "feature_names = df.columns.tolist()\n",
        "\n",
        "# Pretty print the list\n"
      ],
      "metadata": {
        "colab": {
          "base_uri": "https://localhost:8080/"
        },
        "id": "5wJowXrpcu0S",
        "outputId": "fd00418a-23b1-4677-9dca-a09320d8bfdb"
      },
      "execution_count": null,
      "outputs": [
        {
          "output_type": "stream",
          "name": "stdout",
          "text": [
            "Index(['length_url', 'length_hostname', 'ip', 'nb_dots', 'nb_hyphens', 'nb_at',\n",
            "       'nb_qm', 'nb_and', 'nb_or', 'nb_eq', 'nb_underscore', 'nb_tilde',\n",
            "       'nb_percent', 'nb_slash', 'nb_star', 'nb_colon', 'nb_comma',\n",
            "       'nb_semicolumn', 'nb_dollar', 'nb_space', 'nb_www', 'nb_com',\n",
            "       'nb_dslash', 'http_in_path', 'https_token', 'ratio_digits_url',\n",
            "       'ratio_digits_host', 'punycode', 'port', 'tld_in_path',\n",
            "       'tld_in_subdomain', 'abnormal_subdomain', 'nb_subdomains',\n",
            "       'prefix_suffix', 'random_domain', 'shortening_service',\n",
            "       'path_extension', 'nb_redirection', 'nb_external_redirection',\n",
            "       'length_words_raw', 'char_repeat', 'shortest_words_raw',\n",
            "       'shortest_word_host', 'shortest_word_path', 'longest_words_raw',\n",
            "       'longest_word_host', 'longest_word_path', 'avg_words_raw',\n",
            "       'avg_word_host', 'avg_word_path', 'phish_hints', 'domain_in_brand',\n",
            "       'brand_in_subdomain', 'brand_in_path', 'suspecious_tld',\n",
            "       'statistical_report', 'nb_hyperlinks', 'ratio_intHyperlinks',\n",
            "       'ratio_extHyperlinks', 'ratio_nullHyperlinks', 'nb_extCSS',\n",
            "       'ratio_intRedirection', 'ratio_extRedirection', 'ratio_intErrors',\n",
            "       'ratio_extErrors', 'login_form', 'external_favicon', 'links_in_tags',\n",
            "       'submit_email', 'ratio_intMedia', 'ratio_extMedia', 'sfh', 'iframe',\n",
            "       'popup_window', 'safe_anchor', 'onmouseover', 'right_clic',\n",
            "       'empty_title', 'domain_in_title', 'domain_with_copyright',\n",
            "       'whois_registered_domain', 'domain_registration_length', 'domain_age',\n",
            "       'web_traffic', 'dns_record', 'google_index', 'page_rank', 'status'],\n",
            "      dtype='object')\n",
            "Column 'url' or 'Url' not found in the DataFrame.\n"
          ]
        }
      ]
    },
    {
      "cell_type": "code",
      "source": [
        "print(feature_names)"
      ],
      "metadata": {
        "colab": {
          "base_uri": "https://localhost:8080/"
        },
        "id": "ixZ01FhkNZ_d",
        "outputId": "bf76fbdf-5728-4563-ac18-d24246f74520"
      },
      "execution_count": null,
      "outputs": [
        {
          "output_type": "stream",
          "name": "stdout",
          "text": [
            "['length_url', 'length_hostname', 'ip', 'nb_dots', 'nb_hyphens', 'nb_at', 'nb_qm', 'nb_and', 'nb_or', 'nb_eq', 'nb_underscore', 'nb_tilde', 'nb_percent', 'nb_slash', 'nb_star', 'nb_colon', 'nb_comma', 'nb_semicolumn', 'nb_dollar', 'nb_space', 'nb_www', 'nb_com', 'nb_dslash', 'http_in_path', 'https_token', 'ratio_digits_url', 'ratio_digits_host', 'punycode', 'port', 'tld_in_path', 'tld_in_subdomain', 'abnormal_subdomain', 'nb_subdomains', 'prefix_suffix', 'random_domain', 'shortening_service', 'path_extension', 'nb_redirection', 'nb_external_redirection', 'length_words_raw', 'char_repeat', 'shortest_words_raw', 'shortest_word_host', 'shortest_word_path', 'longest_words_raw', 'longest_word_host', 'longest_word_path', 'avg_words_raw', 'avg_word_host', 'avg_word_path', 'phish_hints', 'domain_in_brand', 'brand_in_subdomain', 'brand_in_path', 'suspecious_tld', 'statistical_report', 'nb_hyperlinks', 'ratio_intHyperlinks', 'ratio_extHyperlinks', 'ratio_nullHyperlinks', 'nb_extCSS', 'ratio_intRedirection', 'ratio_extRedirection', 'ratio_intErrors', 'ratio_extErrors', 'login_form', 'external_favicon', 'links_in_tags', 'submit_email', 'ratio_intMedia', 'ratio_extMedia', 'sfh', 'iframe', 'popup_window', 'safe_anchor', 'onmouseover', 'right_clic', 'empty_title', 'domain_in_title', 'domain_with_copyright', 'whois_registered_domain', 'domain_registration_length', 'domain_age', 'web_traffic', 'dns_record', 'google_index', 'page_rank', 'status']\n"
          ]
        }
      ]
    },
    {
      "cell_type": "code",
      "source": [
        "\n",
        "\n",
        "# Visualize class distribution\n",
        "sns.countplot(x='status', data=df)\n",
        "plt.title('Class Distribution')\n",
        "plt.xticks([0, 1], ['Legitimate', 'Phishing'])\n",
        "plt.show()"
      ],
      "metadata": {
        "colab": {
          "base_uri": "https://localhost:8080/",
          "height": 472
        },
        "id": "XBF9H3_Jhc9p",
        "outputId": "d5b78a86-f29d-4ee4-ffe0-6da8d8a78a59"
      },
      "execution_count": null,
      "outputs": [
        {
          "output_type": "display_data",
          "data": {
            "text/plain": [
              "<Figure size 640x480 with 1 Axes>"
            ],
            "image/png": "[encoded data removed]"
          },
          "metadata": {}
        }
      ]
    },
    {
      "cell_type": "code",
      "source": [
        "import pandas as pd\n",
        "from google.colab import files\n",
        "uploaded = files.upload()\n",
        "\n",
        "# Assuming only one file was uploaded, get the filename\n",
        "for fn in uploaded.keys():\n",
        "  filename = fn\n",
        "\n",
        "# Read the uploaded file into a pandas DataFrame\n",
        "# Replace 'pd.read_csv' with the appropriate function based on your file type\n",
        "df = pd.read_csv(filename)"
      ],
      "metadata": {
        "colab": {
          "base_uri": "https://localhost:8080/",
          "height": 73
        },
        "id": "0_1_eEBpcx8B",
        "outputId": "aa93b584-40c0-47c5-db96-8a3dcf7c44ef"
      },
      "execution_count": null,
      "outputs": [
        {
          "output_type": "display_data",
          "data": {
            "text/plain": [
              "<IPython.core.display.HTML object>"
            ],
            "text/html": [
              "\n",
              "     <input type=\"file\" id=\"files-b9295dd0-7172-4fee-ae5f-89756ec602d9\" name=\"files[]\" multiple disabled\n",
              "        style=\"border:none\" />\n",
              "     <output id=\"result-b9295dd0-7172-4fee-ae5f-89756ec602d9\">\n",
              "      Upload widget is only available when the cell has been executed in the\n",
              "      current browser session. Please rerun this cell to enable.\n",
              "      </output>\n",
              "      <script>// Copyright 2017 Google LLC\n",
              "//\n",
              "// Licensed under the Apache License, Version 2.0 (the \"License\");\n",
              "// you may not use this file except in compliance with the License.\n",
              "// You may obtain a copy of the License at\n",
              "//\n",
              "//      http://www.apache.org/licenses/LICENSE-2.0\n",
              "//\n",
              "// Unless required by applicable law or agreed to in writing, software\n",
              "// distributed under the License is distributed on an \"AS IS\" BASIS,\n",
              "// WITHOUT WARRANTIES OR CONDITIONS OF ANY KIND, either express or implied.\n",
              "// See the License for the specific language governing permissions and\n",
              "// limitations under the License.\n",
              "\n",
              "/**\n",
              " * @fileoverview Helpers for google.colab Python module.\n",
              " */\n",
              "(function(scope) {\n",
              "function span(text, styleAttributes = {}) {\n",
              "  const element = document.createElement('span');\n",
              "  element.textContent = text;\n",
              "  for (const key of Object.keys(styleAttributes)) {\n",
              "    element.style[key] = styleAttributes[key];\n",
              "  }\n",
              "  return element;\n",
              "}\n",
              "\n",
              "// Max number of bytes which will be uploaded at a time.\n",
              "const MAX_PAYLOAD_SIZE = 100 * 1024;\n",
              "\n",
              "function _uploadFiles(inputId, outputId) {\n",
              "  const steps = uploadFilesStep(inputId, outputId);\n",
              "  const outputElement = document.getElementById(outputId);\n",
              "  // Cache steps on the outputElement to make it available for the next call\n",
              "  // to uploadFilesContinue from Python.\n",
              "  outputElement.steps = steps;\n",
              "\n",
              "  return _uploadFilesContinue(outputId);\n",
              "}\n",
              "\n",
              "// This is roughly an async generator (not supported in the browser yet),\n",
              "// where there are multiple asynchronous steps and the Python side is going\n",
              "// to poll for completion of each step.\n",
              "// This uses a Promise to block the python side on completion of each step,\n",
              "// then passes the result of the previous step as the input to the next step.\n",
              "function _uploadFilesContinue(outputId) {\n",
              "  const outputElement = document.getElementById(outputId);\n",
              "  const steps = outputElement.steps;\n",
              "\n",
              "  const next = steps.next(outputElement.lastPromiseValue);\n",
              "  return Promise.resolve(next.value.promise).then((value) => {\n",
              "    // Cache the last promise value to make it available to the next\n",
              "    // step of the generator.\n",
              "    outputElement.lastPromiseValue = value;\n",
              "    return next.value.response;\n",
              "  });\n",
              "}\n",
              "\n",
              "/**\n",
              " * Generator function which is called between each async step of the upload\n",
              " * process.\n",
              " * @param {string} inputId Element ID of the input file picker element.\n",
              " * @param {string} outputId Element ID of the output display.\n",
              " * @return {!Iterable<!Object>} Iterable of next steps.\n",
              " */\n",
              "function* uploadFilesStep(inputId, outputId) {\n",
              "  const inputElement = document.getElementById(inputId);\n",
              "  inputElement.disabled = false;\n",
              "\n",
              "  const outputElement = document.getElementById(outputId);\n",
              "  outputElement.innerHTML = '';\n",
              "\n",
              "  const pickedPromise = new Promise((resolve) => {\n",
              "    inputElement.addEventListener('change', (e) => {\n",
              "      resolve(e.target.files);\n",
              "    });\n",
              "  });\n",
              "\n",
              "  const cancel = document.createElement('button');\n",
              "  inputElement.parentElement.appendChild(cancel);\n",
              "  cancel.textContent = 'Cancel upload';\n",
              "  const cancelPromise = new Promise((resolve) => {\n",
              "    cancel.onclick = () => {\n",
              "      resolve(null);\n",
              "    };\n",
              "  });\n",
              "\n",
              "  // Wait for the user to pick the files.\n",
              "  const files = yield {\n",
              "    promise: Promise.race([pickedPromise, cancelPromise]),\n",
              "    response: {\n",
              "      action: 'starting',\n",
              "    }\n",
              "  };\n",
              "\n",
              "  cancel.remove();\n",
              "\n",
              "  // Disable the input element since further picks are not allowed.\n",
              "  inputElement.disabled = true;\n",
              "\n",
              "  if (!files) {\n",
              "    return {\n",
              "      response: {\n",
              "        action: 'complete',\n",
              "      }\n",
              "    };\n",
              "  }\n",
              "\n",
              "  for (const file of files) {\n",
              "    const li = document.createElement('li');\n",
              "    li.append(span(file.name, {fontWeight: 'bold'}));\n",
              "    li.append(span(\n",
              "        `(${file.type || 'n/a'}) - ${file.size} bytes, ` +\n",
              "        `last modified: ${\n",
              "            file.lastModifiedDate ? file.lastModifiedDate.toLocaleDateString() :\n",
              "                                    'n/a'} - `));\n",
              "    const percent = span('0% done');\n",
              "    li.appendChild(percent);\n",
              "\n",
              "    outputElement.appendChild(li);\n",
              "\n",
              "    const fileDataPromise = new Promise((resolve) => {\n",
              "      const reader = new FileReader();\n",
              "      reader.onload = (e) => {\n",
              "        resolve(e.target.result);\n",
              "      };\n",
              "      reader.readAsArrayBuffer(file);\n",
              "    });\n",
              "    // Wait for the data to be ready.\n",
              "    let fileData = yield {\n",
              "      promise: fileDataPromise,\n",
              "      response: {\n",
              "        action: 'continue',\n",
              "      }\n",
              "    };\n",
              "\n",
              "    // Use a chunked sending to avoid message size limits. See b/62115660.\n",
              "    let position = 0;\n",
              "    do {\n",
              "      const length = Math.min(fileData.byteLength - position, MAX_PAYLOAD_SIZE);\n",
              "      const chunk = new Uint8Array(fileData, position, length);\n",
              "      position += length;\n",
              "\n",
              "      const base64 = btoa(String.fromCharCode.apply(null, chunk));\n",
              "      yield {\n",
              "        response: {\n",
              "          action: 'append',\n",
              "          file: file.name,\n",
              "          data: base64,\n",
              "        },\n",
              "      };\n",
              "\n",
              "      let percentDone = fileData.byteLength === 0 ?\n",
              "          100 :\n",
              "          Math.round((position / fileData.byteLength) * 100);\n",
              "      percent.textContent = `${percentDone}% done`;\n",
              "\n",
              "    } while (position < fileData.byteLength);\n",
              "  }\n",
              "\n",
              "  // All done.\n",
              "  yield {\n",
              "    response: {\n",
              "      action: 'complete',\n",
              "    }\n",
              "  };\n",
              "}\n",
              "\n",
              "scope.google = scope.google || {};\n",
              "scope.google.colab = scope.google.colab || {};\n",
              "scope.google.colab._files = {\n",
              "  _uploadFiles,\n",
              "  _uploadFilesContinue,\n",
              "};\n",
              "})(self);\n",
              "</script> "
            ]
          },
          "metadata": {}
        },
        {
          "output_type": "stream",
          "name": "stdout",
          "text": [
            "Saving dataset_phishing.csv to dataset_phishing.csv\n"
          ]
        }
      ]
    },
    {
      "cell_type": "code",
      "source": [
        "X = df.drop(columns=['url', 'status'])\n",
        "y = df['status']\n",
        "\n"
      ],
      "metadata": {
        "id": "EnNqGqh0-ZG0"
      },
      "execution_count": null,
      "outputs": []
    },
    {
      "cell_type": "code",
      "source": [
        "from sklearn.model_selection import train_test_split  # Import train_test_split here\n",
        "X_train, X_test, y_train, y_test = train_test_split(X, y, test_size=0.2, random_state=42, stratify=y)\n"
      ],
      "metadata": {
        "id": "lRp1ENSbcz5-"
      },
      "execution_count": null,
      "outputs": []
    },
    {
      "cell_type": "code",
      "source": [
        "from sklearn.ensemble import RandomForestClassifier\n",
        "import joblib\n",
        "# Train the model\n",
        "model = RandomForestClassifier(n_estimators=100, random_state=42)\n",
        "model.fit(X, y)\n",
        "\n",
        "# Save the model\n",
        "joblib.dump(model, \"random_forest_phishing_model_websites.joblib\")\n",
        "\n",
        "print(\"✅ Model trained and saved as 'random_forest_phishing_model_websites.joblib'\")\n"
      ],
      "metadata": {
        "colab": {
          "base_uri": "https://localhost:8080/"
        },
        "id": "v-eqZZlEc1u-",
        "outputId": "323866ea-2ab3-4cce-d66f-a14e1b0afd9e"
      },
      "execution_count": null,
      "outputs": [
        {
          "output_type": "stream",
          "name": "stdout",
          "text": [
            "✅ Model trained and saved as 'random_forest_phishing_model_websites.joblib'\n"
          ]
        }
      ]
    },
    {
      "cell_type": "code",
      "source": [
        "y_pred = model.predict(X_test)"
      ],
      "metadata": {
        "id": "KsPxGPsSc9Em"
      },
      "execution_count": null,
      "outputs": []
    },
    {
      "cell_type": "code",
      "source": [
        "print(\"Accuracy:\", accuracy_score(y_test, y_pred))\n",
        "print(\"\\nClassification Report:\\n\", classification_report(y_test, y_pred))"
      ],
      "metadata": {
        "colab": {
          "base_uri": "https://localhost:8080/"
        },
        "id": "gxX8o1FidDWu",
        "outputId": "8023f170-43f6-4556-ac32-1897df9d061f"
      },
      "execution_count": null,
      "outputs": [
        {
          "output_type": "stream",
          "name": "stdout",
          "text": [
            "Accuracy: 0.9593175853018373\n",
            "\n",
            "Classification Report:\n",
            "               precision    recall  f1-score   support\n",
            "\n",
            "           0       0.96      0.95      0.96      1143\n",
            "           1       0.95      0.96      0.96      1143\n",
            "\n",
            "    accuracy                           0.96      2286\n",
            "   macro avg       0.96      0.96      0.96      2286\n",
            "weighted avg       0.96      0.96      0.96      2286\n",
            "\n"
          ]
        }
      ]
    },
    {
      "cell_type": "code",
      "source": [
        "conf_mat = confusion_matrix(y_test, y_pred)\n",
        "sns.heatmap(conf_mat, annot=True, fmt='d', cmap='Blues',\n",
        "            xticklabels=['Legitimate', 'Phishing'],\n",
        "            yticklabels=['Legitimate', 'Phishing'])\n",
        "plt.title('Confusion Matrix')\n",
        "plt.xlabel('Predicted')\n",
        "plt.ylabel('Actual')\n",
        "plt.show()"
      ],
      "metadata": {
        "colab": {
          "base_uri": "https://localhost:8080/",
          "height": 472
        },
        "id": "E01lNvfodFPE",
        "outputId": "e13bfe03-25dd-4e90-9410-f99f1c24a285"
      },
      "execution_count": null,
      "outputs": [
        {
          "output_type": "display_data",
          "data": {
            "text/plain": [
              "<Figure size 640x480 with 2 Axes>"
            ],
            "image/png": "[encoded data removed]"
          },
          "metadata": {}
        }
      ]
    },
    {
      "cell_type": "code",
      "source": [
        "# Feature importance (Cool-colored plot)\n",
        "importances = model.feature_importances_\n",
        "features = X.columns\n",
        "indices = np.argsort(importances)[-10:]  # Top 10 features\n",
        "\n",
        "plt.figure(figsize=(10, 6))\n",
        "plt.title('Top 10 Feature Importances')\n",
        "\n",
        "colors = sns.color_palette(\"cool\", len(indices))\n",
        "plt.barh(range(len(indices)), importances[indices], color=colors, align='center')\n",
        "plt.yticks(range(len(indices)), [features[i] for i in indices])\n",
        "plt.xlabel('Relative Importance')\n",
        "plt.tight_layout()\n",
        "plt.show()\n"
      ],
      "metadata": {
        "colab": {
          "base_uri": "https://localhost:8080/",
          "height": 486
        },
        "id": "ImllOETZhmvu",
        "outputId": "aacb296a-ffd2-4a10-ea32-dcf731a8b315"
      },
      "execution_count": null,
      "outputs": [
        {
          "output_type": "display_data",
          "data": {
            "text/plain": [
              "<Figure size 1000x600 with 1 Axes>"
            ],
            "image/png": "[encoded data removed]"
          },
          "metadata": {}
        }
      ]
    },
    {
      "cell_type": "code",
      "source": [
        "# Select two features for scatter plot (change these as appropriate for your dataset)\n",
        "feature_x = X.columns[0]\n",
        "feature_y = X.columns[1]\n",
        "\n",
        "# Combine features and target for plotting\n",
        "df_plot = pd.concat([X[[feature_x, feature_y]], y], axis=1)\n",
        "\n",
        "# Scatter plot\n",
        "plt.figure(figsize=(8, 6))\n",
        "sns.scatterplot(data=df_plot, x=feature_x, y=feature_y, hue='status', palette='cool', s=60, alpha=0.7)\n",
        "plt.title(f'Scatter Plot: {feature_x} vs {feature_y}')\n",
        "plt.legend(title='Status', labels=['Legitimate', 'Phishing'])\n",
        "plt.tight_layout()\n",
        "plt.show()\n"
      ],
      "metadata": {
        "colab": {
          "base_uri": "https://localhost:8080/",
          "height": 605
        },
        "id": "1XKE3fQSlMH9",
        "outputId": "25c45f39-378c-4de9-feec-9a6b6f7102af"
      },
      "execution_count": null,
      "outputs": [
        {
          "output_type": "display_data",
          "data": {
            "text/plain": [
              "<Figure size 800x600 with 1 Axes>"
            ],
            "image/png": "[encoded data removed]"
          },
          "metadata": {}
        }
      ]
    },
    {
      "cell_type": "code",
      "source": [
        "import joblib\n",
        "\n",
        "# Save the trained model to a file\n",
        "joblib.dump(model, 'random_forest_phishing_model(websites).joblib')\n"
      ],
      "metadata": {
        "colab": {
          "base_uri": "https://localhost:8080/"
        },
        "id": "ZcBJWeavhqdD",
        "outputId": "34703cba-56f8-4ca9-da7c-21fc8f039458"
      },
      "execution_count": null,
      "outputs": [
        {
          "output_type": "execute_result",
          "data": {
            "text/plain": [
              "['random_forest_phishing_model(websites).joblib']"
            ]
          },
          "metadata": {},
          "execution_count": 27
        }
      ]
    },
    {
      "cell_type": "code",
      "source": [
        "files.download(\"random_forest_phishing_model(websites).joblib\")\n"
      ],
      "metadata": {
        "colab": {
          "base_uri": "https://localhost:8080/",
          "height": 17
        },
        "id": "NqSVeTh2hzpV",
        "outputId": "5b7dc04d-da07-446e-b4c8-1eb4246f9e5b"
      },
      "execution_count": null,
      "outputs": [
        {
          "output_type": "display_data",
          "data": {
            "text/plain": [
              "<IPython.core.display.Javascript object>"
            ],
            "application/javascript": [
              "\n",
              "    async function download(id, filename, size) {\n",
              "      if (!google.colab.kernel.accessAllowed) {\n",
              "        return;\n",
              "      }\n",
              "      const div = document.createElement('div');\n",
              "      const label = document.createElement('label');\n",
              "      label.textContent = `Downloading \"${filename}\": `;\n",
              "      div.appendChild(label);\n",
              "      const progress = document.createElement('progress');\n",
              "      progress.max = size;\n",
              "      div.appendChild(progress);\n",
              "      document.body.appendChild(div);\n",
              "\n",
              "      const buffers = [];\n",
              "      let downloaded = 0;\n",
              "\n",
              "      const channel = await google.colab.kernel.comms.open(id);\n",
              "      // Send a message to notify the kernel that we're ready.\n",
              "      channel.send({})\n",
              "\n",
              "      for await (const message of channel.messages) {\n",
              "        // Send a message to notify the kernel that we're ready.\n",
              "        channel.send({})\n",
              "        if (message.buffers) {\n",
              "          for (const buffer of message.buffers) {\n",
              "            buffers.push(buffer);\n",
              "            downloaded += buffer.byteLength;\n",
              "            progress.value = downloaded;\n",
              "          }\n",
              "        }\n",
              "      }\n",
              "      const blob = new Blob(buffers, {type: 'application/binary'});\n",
              "      const a = document.createElement('a');\n",
              "      a.href = window.URL.createObjectURL(blob);\n",
              "      a.download = filename;\n",
              "      div.appendChild(a);\n",
              "      a.click();\n",
              "      div.remove();\n",
              "    }\n",
              "  "
            ]
          },
          "metadata": {}
        },
        {
          "output_type": "display_data",
          "data": {
            "text/plain": [
              "<IPython.core.display.Javascript object>"
            ],
            "application/javascript": [
              "download(\"download_7468da20-0c07-4880-8d25-876f74a653c4\", \"random_forest_phishing_model(websites).joblib\", 650)"
            ]
          },
          "metadata": {}
        }
      ]
    },
    {
      "cell_type": "code",
      "source": [],
      "metadata": {
        "id": "Z97a9jHaWjaC"
      },
      "execution_count": null,
      "outputs": []
    }
  ]
}